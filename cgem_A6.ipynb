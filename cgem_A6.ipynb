{
 "cells": [
  {
   "cell_type": "markdown",
   "id": "90e98304-27c9-481b-961a-feb27856f03a",
   "metadata": {},
   "source": [
    "# CGEM the Notebook\n",
    "## Check how Phytoplankton dynamics depend on calibration parameters "
   ]
  },
  {
   "cell_type": "markdown",
   "id": "61e1b537-9831-47bb-b7c8-492c64721deb",
   "metadata": {},
   "source": [
    "## Compile the code"
   ]
  },
  {
   "cell_type": "code",
   "execution_count": null,
   "id": "3646d5d8-58b8-46f9-a575-a487876ab859",
   "metadata": {
    "scrolled": true,
    "tags": []
   },
   "outputs": [],
   "source": [
    "!make"
   ]
  },
  {
   "cell_type": "markdown",
   "id": "2dcaf99f-d92d-44ee-9f26-7fe1e9a96d75",
   "metadata": {},
   "source": [
    "## Import CGEM Python functions"
   ]
  },
  {
   "cell_type": "code",
   "execution_count": null,
   "id": "3467d56d-d77c-43d4-86bc-e4a1faa2f9da",
   "metadata": {},
   "outputs": [],
   "source": [
    "from cgem import *"
   ]
  },
  {
   "cell_type": "markdown",
   "id": "f093111f-46d1-4e66-aaa4-bc0a11de1e77",
   "metadata": {},
   "source": [
    "## Copy the namelist for 6 phytoplankton groups"
   ]
  },
  {
   "cell_type": "code",
   "execution_count": null,
   "id": "e8cbd01a-ce4d-405a-8932-6cf778ea8b74",
   "metadata": {},
   "outputs": [],
   "source": [
    "!cp nml_save/cgem6a2z.nml cgem.nml"
   ]
  },
  {
   "cell_type": "markdown",
   "id": "8d2e0f68-fe21-4f0f-a1fd-52e44fdc4488",
   "metadata": {
    "tags": []
   },
   "source": [
    "## Read namelists\n",
    "\n",
    "Import both the grid and cgem namelists, and print out grid"
   ]
  },
  {
   "cell_type": "code",
   "execution_count": null,
   "id": "e626e5f8-6c6c-440c-bb62-e419b05f7999",
   "metadata": {},
   "outputs": [],
   "source": [
    "import f90nml\n",
    "cgem = f90nml.read('cgem.nml')\n",
    "grid = f90nml.read('grid.nml')\n",
    "nospA = cgem.get('nosp').get('nospa')\n",
    "nospZ = cgem.get('nosp').get('nospz')\n",
    "print(nospA,nospZ)"
   ]
  },
  {
   "cell_type": "markdown",
   "id": "b3d7f3ef-a7a0-44a1-b46d-e3bb1bb31d46",
   "metadata": {},
   "source": [
    "## Plot all Phytoplankton groups\n",
    "The function `cgem_plotAs` will plot all the Phytoplankton groups at k=1.  (I'll add the option to plot different k later, now you're stuck with k=1.)\n",
    "\n",
    "### Right now, all the Phytoplankton parameters are set equal. \n",
    "The plots should be the same."
   ]
  },
  {
   "cell_type": "code",
   "execution_count": null,
   "id": "6088d399-27d7-47c8-a1e7-fab48a572bc4",
   "metadata": {},
   "outputs": [],
   "source": [
    "cgem_plotAs(grid,cgem)"
   ]
  },
  {
   "cell_type": "markdown",
   "id": "2df869c2-bd9b-4de7-8b3b-ab7122dba7b0",
   "metadata": {},
   "source": [
    "### Here, let's change them to what was in the manuscript, line by line\n",
    "If you come up with good parameters, make sure to save your cgem.nml locally!  \n",
    "\n",
    "The first parameter is `umax`.  (To see *all* parameters, do `cgem.get('phytoplankton')`)"
   ]
  },
  {
   "cell_type": "code",
   "execution_count": null,
   "id": "da11cb00-f5ff-4593-97ef-826a514381ae",
   "metadata": {},
   "outputs": [],
   "source": [
    "#cgem.get('phytoplankton')"
   ]
  },
  {
   "cell_type": "code",
   "execution_count": null,
   "id": "077b936e-918b-441b-8dbd-b520506c7a62",
   "metadata": {},
   "outputs": [],
   "source": [
    "cgem.get('phytoplankton').get('umax')"
   ]
  },
  {
   "cell_type": "markdown",
   "id": "e57de286-7db9-493b-87ca-53fa1fa13898",
   "metadata": {},
   "source": [
    "## Change umax\n",
    "The following will overwrite the existing cgem.nml.  If you mess it up or just want to start again, do `!cp nml_save/cgem6a2z.nml ./cgem.nml`."
   ]
  },
  {
   "cell_type": "code",
   "execution_count": null,
   "id": "318804fd-9890-45cf-982c-66f0e130dc5c",
   "metadata": {},
   "outputs": [],
   "source": [
    "## Change umax\n",
    "cgem['phytoplankton']['umax'] = [0.41, 0.76, 0.34, 1.12, 1.10, 1.72]\n",
    "print(cgem.get('phytoplankton').get('umax'))\n",
    "cgem.write('cgem.nml',force=True)"
   ]
  },
  {
   "cell_type": "code",
   "execution_count": null,
   "id": "a32f7e12-af46-4510-9bdb-bf44a4b3d2cc",
   "metadata": {},
   "outputs": [],
   "source": [
    "cgem_plotAs(grid,cgem)"
   ]
  },
  {
   "cell_type": "markdown",
   "id": "9625a9e6-3666-4538-af5c-42b2abb5b175",
   "metadata": {},
   "source": [
    "## Choose continuous change or change one at a time\n",
    "Set `reset_nml = True` to change only one parameter at a time.  I'm going to check one at a time with `reset_nml = True`.  \n",
    "\n",
    "If you change your mind, you can just change this value once, then rerun the other cells with no changes."
   ]
  },
  {
   "cell_type": "code",
   "execution_count": null,
   "id": "377eb6be-8afc-473b-9695-9647d17e16a9",
   "metadata": {},
   "outputs": [],
   "source": [
    "# reset_nml = False\n",
    "reset_nml = True"
   ]
  },
  {
   "cell_type": "markdown",
   "id": "3962d251-c597-4d57-8084-e70823293792",
   "metadata": {},
   "source": [
    "## Change Kn\n",
    "The cgem_read subroutine does not multiply by the factor of 10^?, like in the paper.  I'm just going to start with the parameters I can cut and paste from the *Tables and Figures*.  (I think I will change cgem_read and do that multiplication in the code.)"
   ]
  },
  {
   "cell_type": "code",
   "execution_count": null,
   "id": "4621cf1d-a063-47b7-9728-6381ae760d38",
   "metadata": {},
   "outputs": [],
   "source": [
    "# Change the parameter\n",
    "which_var = 'Kn'\n",
    "# Reset the nml if True\n",
    "if reset_nml:\n",
    "    !cp nml_save/cgem6a2z.nml cgem.nml\n",
    "cgem['phytoplankton'][which_var] = [4.51, 1.93, 5.93, 1.13, 1.16, 0.63]\n",
    "# Check it\n",
    "print(which_var,cgem.get('phytoplankton').get(which_var))\n",
    "# Write the nml file\n",
    "cgem.write('cgem.nml',force=True)\n",
    "cgem_plotAs(grid,cgem)"
   ]
  },
  {
   "cell_type": "markdown",
   "id": "65b854c8-3872-4dc5-93a7-14718f455ac8",
   "metadata": {},
   "source": [
    "## Change iMonE\n",
    "Looks like I don't want to plot for 6 months.  Two months should do it.  (Note, Fortran is not case sensitive but Python is.  Use all lowercase.)"
   ]
  },
  {
   "cell_type": "code",
   "execution_count": null,
   "id": "eb665235-4c79-43a0-8f27-8f18f871250c",
   "metadata": {},
   "outputs": [],
   "source": [
    "# Change the ending month\n",
    "grid['hydro']['imone'] = 2\n",
    "# Check it\n",
    "print(\"Month, end of simulation\",grid.get('hydro').get('imone'))\n",
    "# Write the nml file\n",
    "grid.write('grid.nml',force=True)\n",
    "cgem_plotAs(grid,cgem)"
   ]
  },
  {
   "cell_type": "markdown",
   "id": "e4b3f069-0489-44c0-a89f-f342a26f6c20",
   "metadata": {},
   "source": [
    "## Change Kp"
   ]
  },
  {
   "cell_type": "code",
   "execution_count": null,
   "id": "180f7ed6-c7a5-448c-8afe-f549fac43ac3",
   "metadata": {},
   "outputs": [],
   "source": [
    "# Change the parameter\n",
    "which_var = 'kp'\n",
    "# Reset the nml if True\n",
    "if reset_nml:\n",
    "    !cp nml_save/cgem6a2z.nml cgem.nml\n",
    "cgem['phytoplankton'][which_var] = [2.86, 1.00, 4.02, 0.51, 0.53, 0.25]\n",
    "# Check it\n",
    "print(which_var,cgem.get('phytoplankton').get(which_var))\n",
    "# Write the nml file\n",
    "cgem.write('cgem.nml',force=True)\n",
    "cgem_plotAs(grid,cgem)"
   ]
  },
  {
   "cell_type": "markdown",
   "id": "c43bd86d-fc25-4477-9007-b4ebe1f9bbf5",
   "metadata": {},
   "source": [
    "## Change Ksi"
   ]
  },
  {
   "cell_type": "code",
   "execution_count": null,
   "id": "e8c5ca8a-7d9c-42ef-b4c4-457d0a5063c0",
   "metadata": {},
   "outputs": [],
   "source": [
    "# Change the parameter\n",
    "which_var = 'ksi'\n",
    "# Reset the nml if True\n",
    "if reset_nml:\n",
    "    !cp nml_save/cgem6a2z.nml cgem.nml\n",
    "cgem['phytoplankton'][which_var] = [4.51, 1.93, 5.93, 1.13, 1.16, 0.63]\n",
    "# Check it\n",
    "print(which_var,cgem.get('phytoplankton').get(which_var))\n",
    "# Write the nml file\n",
    "cgem.write('cgem.nml',force=True)\n",
    "cgem_plotAs(grid,cgem)"
   ]
  },
  {
   "cell_type": "markdown",
   "id": "5ce98ce3-7692-4e69-adb0-0175a9ae0d9a",
   "metadata": {},
   "source": [
    "## That's it for now\n",
    "I'll save the notebook and quit for now.  We can fill in the rest later."
   ]
  },
  {
   "cell_type": "code",
   "execution_count": null,
   "id": "17664642-8d70-454d-a3c0-fa5a7b10ce5f",
   "metadata": {},
   "outputs": [],
   "source": []
  }
 ],
 "metadata": {
  "kernelspec": {
   "display_name": "Python 3 (ipykernel)",
   "language": "python",
   "name": "python3"
  },
  "language_info": {
   "codemirror_mode": {
    "name": "ipython",
    "version": 3
   },
   "file_extension": ".py",
   "mimetype": "text/x-python",
   "name": "python",
   "nbconvert_exporter": "python",
   "pygments_lexer": "ipython3",
   "version": "3.10.9"
  }
 },
 "nbformat": 4,
 "nbformat_minor": 5
}
