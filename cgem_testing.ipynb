{
 "cells": [
  {
   "cell_type": "markdown",
   "id": "90e98304-27c9-481b-961a-feb27856f03a",
   "metadata": {},
   "source": [
    "# CGEM the Notebook\n",
    "## Testing temperature dependence"
   ]
  },
  {
   "cell_type": "markdown",
   "id": "61e1b537-9831-47bb-b7c8-492c64721deb",
   "metadata": {},
   "source": [
    "## Compile the code"
   ]
  },
  {
   "cell_type": "code",
   "execution_count": null,
   "id": "3646d5d8-58b8-46f9-a575-a487876ab859",
   "metadata": {
    "scrolled": true,
    "tags": []
   },
   "outputs": [],
   "source": [
    "!make"
   ]
  },
  {
   "cell_type": "markdown",
   "id": "2dcaf99f-d92d-44ee-9f26-7fe1e9a96d75",
   "metadata": {},
   "source": [
    "## Import CGEM Python functions"
   ]
  },
  {
   "cell_type": "code",
   "execution_count": null,
   "id": "3467d56d-d77c-43d4-86bc-e4a1faa2f9da",
   "metadata": {},
   "outputs": [],
   "source": [
    "from cgem import *"
   ]
  },
  {
   "cell_type": "markdown",
   "id": "8d2e0f68-fe21-4f0f-a1fd-52e44fdc4488",
   "metadata": {},
   "source": [
    "## Temperature is defined in the grid namelist file\n",
    "\n",
    "Import both the grid and cgem namelists, and print out grid"
   ]
  },
  {
   "cell_type": "code",
   "execution_count": null,
   "id": "e626e5f8-6c6c-440c-bb62-e419b05f7999",
   "metadata": {},
   "outputs": [],
   "source": [
    "import f90nml\n",
    "cgem = f90nml.read('cgem.nml')\n",
    "grid = f90nml.read('grid.nml')\n",
    "print(grid)"
   ]
  },
  {
   "cell_type": "markdown",
   "id": "be075556-756f-4b7b-b536-db66d35a3cc1",
   "metadata": {},
   "source": [
    "## The parameter to change is temp_init\n",
    "The namelist file is called ***grid.nml***.  The *namelist* in that file with `temp_init` is called `hydro`.  (Quanities in hydro should come from SCHISM.)"
   ]
  },
  {
   "cell_type": "code",
   "execution_count": null,
   "id": "6088d399-27d7-47c8-a1e7-fab48a572bc4",
   "metadata": {},
   "outputs": [],
   "source": [
    "Temperature = grid.get('hydro').get('temp_init')\n",
    "Temperature"
   ]
  },
  {
   "cell_type": "markdown",
   "id": "3a0852fc-df62-4bd1-993e-e6d622c8f52d",
   "metadata": {},
   "source": [
    "## Make a plot of phytoplankton \n",
    "With the initial temperature."
   ]
  },
  {
   "cell_type": "code",
   "execution_count": null,
   "id": "dad8cb30-c731-4a35-9f90-dcf2ef471eb5",
   "metadata": {},
   "outputs": [],
   "source": [
    "cgem_plot1D(grid,'A')"
   ]
  },
  {
   "cell_type": "markdown",
   "id": "14dbb004-724b-40ee-9399-c50856922eb6",
   "metadata": {
    "tags": []
   },
   "source": [
    "## Save the variable\n",
    "We want to change the temperature and see what happens to A, so..."
   ]
  },
  {
   "cell_type": "code",
   "execution_count": null,
   "id": "5c922aac-9ae6-4dfe-a978-7269080c5a11",
   "metadata": {},
   "outputs": [],
   "source": [
    "A_t16 = cgem_getvar(\"A\")"
   ]
  },
  {
   "cell_type": "markdown",
   "id": "81820f6b-4dec-41b7-9fc0-06b1a646627f",
   "metadata": {},
   "source": [
    "## Use Python f90nml function to change the inputs\n",
    "See: http://f90nml.readthedocs.org/en/latest/\n",
    "```\n",
    "grid['hydro']['temp_init'] = 30\n",
    "grid.write('grid.nml',force=True)\n",
    "```"
   ]
  },
  {
   "cell_type": "code",
   "execution_count": null,
   "id": "1fab96d2-b4e0-4927-a169-9fa68c637a58",
   "metadata": {},
   "outputs": [],
   "source": [
    "grid['hydro']['temp_init'] = 30\n",
    "grid.write('grid.nml',force=True)"
   ]
  },
  {
   "cell_type": "markdown",
   "id": "25ed7997-9394-4f08-8941-ac2f471d2a0c",
   "metadata": {},
   "source": [
    "Check that the temperature was modified properly."
   ]
  },
  {
   "cell_type": "code",
   "execution_count": null,
   "id": "6ec03c28-7226-4d6d-ae0d-0c7f9fc74b41",
   "metadata": {},
   "outputs": [],
   "source": [
    "print(grid)\n",
    "print(\"Temperature=\",grid.get('hydro').get('temp_init'))"
   ]
  },
  {
   "cell_type": "markdown",
   "id": "8457ec40-c40f-496e-b33c-63c6e0ea1959",
   "metadata": {},
   "source": [
    "## Plot A at both temperatures\n",
    "Get the new value, and define time while you are at it."
   ]
  },
  {
   "cell_type": "code",
   "execution_count": null,
   "id": "32324d52-7757-4ac0-a82b-309ee80ac6b6",
   "metadata": {},
   "outputs": [],
   "source": [
    "A_t30 = cgem_getvar(\"A\")\n",
    "T = cgem_timearray(grid)"
   ]
  },
  {
   "cell_type": "code",
   "execution_count": null,
   "id": "de6154ec-782d-4855-9703-4c2d534e62e7",
   "metadata": {},
   "outputs": [],
   "source": [
    "fig, ax = plt.subplots(figsize=(20, 5))\n",
    "ax.plot(T,A_t16, color='darkblue', label='Phytoplankton at T=16C')\n",
    "ax.plot(T,A_t30, color='darkred', label='Phytoplankton at T=30C')\n",
    "ax.legend()\n",
    "plt.ylabel('A: Phytoplankton number density (cells/m3)')\n",
    "plt.show()"
   ]
  },
  {
   "cell_type": "markdown",
   "id": "8405b8b3-8276-4937-ac12-cea769efcbad",
   "metadata": {},
   "source": [
    "## Wow, I'm pretty relieved they are different, aren't you?\n",
    "Try some more plots and let me know what happens.\n",
    "\n",
    "### If you want to this test this again in the same Binder session, get the nml back the way it was. "
   ]
  },
  {
   "cell_type": "code",
   "execution_count": null,
   "id": "ee7ac93d-2cdc-48f8-b530-25b35329cf98",
   "metadata": {},
   "outputs": [],
   "source": [
    "!cp nml_save/grid.nml grid.nml"
   ]
  },
  {
   "cell_type": "code",
   "execution_count": null,
   "id": "6d3740dc-2463-4428-a76b-847339b1bd95",
   "metadata": {},
   "outputs": [],
   "source": []
  }
 ],
 "metadata": {
  "kernelspec": {
   "display_name": "Python 3 (ipykernel)",
   "language": "python",
   "name": "python3"
  },
  "language_info": {
   "codemirror_mode": {
    "name": "ipython",
    "version": 3
   },
   "file_extension": ".py",
   "mimetype": "text/x-python",
   "name": "python",
   "nbconvert_exporter": "python",
   "pygments_lexer": "ipython3",
   "version": "3.10.9"
  }
 },
 "nbformat": 4,
 "nbformat_minor": 5
}
