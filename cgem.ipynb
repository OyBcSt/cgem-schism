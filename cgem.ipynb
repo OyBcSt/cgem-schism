{
 "cells": [
  {
   "cell_type": "markdown",
   "id": "90e98304-27c9-481b-961a-feb27856f03a",
   "metadata": {},
   "source": [
    "# CGEM the Notebook"
   ]
  },
  {
   "cell_type": "markdown",
   "id": "61e1b537-9831-47bb-b7c8-492c64721deb",
   "metadata": {},
   "source": [
    "## Compile the code"
   ]
  },
  {
   "cell_type": "code",
   "execution_count": null,
   "id": "3646d5d8-58b8-46f9-a575-a487876ab859",
   "metadata": {
    "scrolled": true,
    "tags": []
   },
   "outputs": [],
   "source": [
    "!make"
   ]
  },
  {
   "cell_type": "markdown",
   "id": "2dcaf99f-d92d-44ee-9f26-7fe1e9a96d75",
   "metadata": {},
   "source": [
    "## Import CGEM Python functions"
   ]
  },
  {
   "cell_type": "code",
   "execution_count": null,
   "id": "3467d56d-d77c-43d4-86bc-e4a1faa2f9da",
   "metadata": {},
   "outputs": [],
   "source": [
    "from cgem import *"
   ]
  },
  {
   "cell_type": "markdown",
   "id": "be075556-756f-4b7b-b536-db66d35a3cc1",
   "metadata": {},
   "source": [
    "## Get the input parameters from namelists"
   ]
  },
  {
   "cell_type": "code",
   "execution_count": null,
   "id": "6088d399-27d7-47c8-a1e7-fab48a572bc4",
   "metadata": {},
   "outputs": [],
   "source": [
    "import f90nml\n",
    "from opentea.noob.asciigraph import nob_asciigraph\n",
    "cgem_nml = f90nml.read('cgem.nml')\n",
    "cgem = cgem_nml.todict()\n",
    "grid_nml = f90nml.read('grid.nml')\n",
    "grid = grid_nml.todict()\n",
    "grid"
   ]
  },
  {
   "cell_type": "markdown",
   "id": "8d2e0f68-fe21-4f0f-a1fd-52e44fdc4488",
   "metadata": {},
   "source": [
    "## Try a plot\n",
    "\n",
    "syntax:\n",
    "cgem_plot1D(grid,var)\n",
    "\n",
    "Options for var are:\n",
    "\n",
    "A, Qn, Qp, Z, NO3, NH4, PO4, DIC, O2, OM1_A, OM2_A, OM1_Z, OM2_Z, OM1_R, OM2_R, CDOM, Si, Alk, Tr"
   ]
  },
  {
   "cell_type": "code",
   "execution_count": null,
   "id": "e626e5f8-6c6c-440c-bb62-e419b05f7999",
   "metadata": {},
   "outputs": [],
   "source": [
    "cgem_plot1D(grid,\"NH4\")"
   ]
  },
  {
   "cell_type": "markdown",
   "id": "3a0852fc-df62-4bd1-993e-e6d622c8f52d",
   "metadata": {},
   "source": [
    "## Grid/time params are in 'grid', CGEM vars/switches are in cgem.\n",
    "You can get an element with 'get'."
   ]
  },
  {
   "cell_type": "code",
   "execution_count": null,
   "id": "dad8cb30-c731-4a35-9f90-dcf2ef471eb5",
   "metadata": {},
   "outputs": [],
   "source": [
    "grid.get('time').get('iyrs')"
   ]
  },
  {
   "cell_type": "markdown",
   "id": "14dbb004-724b-40ee-9399-c50856922eb6",
   "metadata": {
    "tags": []
   },
   "source": [
    "## CGEM Python functions available are:\n",
    "- cgem_plot1D(var) - makes a 1D plot of a state variable 'var'\n",
    "- cgem_getvar(var) - gets a state variable 'var'\n",
    "- cgem_timearray(var, grid) - creates a time array starting with start of simulation until the variable stops (in case it crashes, it uses length of variable)\n",
    "- cgem_tstart(grid) - gets datetime object for start of simulation\n",
    "- cgem_tend(grid) - ditto end of simulation\n",
    "\n",
    "## To work with the output, save to a variable"
   ]
  },
  {
   "cell_type": "code",
   "execution_count": null,
   "id": "5c922aac-9ae6-4dfe-a978-7269080c5a11",
   "metadata": {},
   "outputs": [],
   "source": [
    "A = cgem_getvar(\"A\")"
   ]
  },
  {
   "cell_type": "markdown",
   "id": "bc8da401-b590-49cd-857f-0299d79a41f2",
   "metadata": {},
   "source": [
    "## Then you can calculate stuff or make your own plots"
   ]
  },
  {
   "cell_type": "code",
   "execution_count": null,
   "id": "d070a087-d85f-4085-bd77-20cc6e9a9663",
   "metadata": {},
   "outputs": [],
   "source": [
    "plt.plot(A,linestyle='dotted')\n",
    "plt.show\n",
    "print(\"The maximum phytoplankton is: \",max(A))"
   ]
  },
  {
   "cell_type": "markdown",
   "id": "8964f40c-fa61-4ccd-9915-8a03d97eb563",
   "metadata": {},
   "source": [
    "## When making your own plots, calculate the Time array\n",
    "...so the x axis makes sense, otherwise, it shows the number of steps"
   ]
  },
  {
   "cell_type": "code",
   "execution_count": null,
   "id": "62315b34-5fec-4598-b9f9-ba836f06951e",
   "metadata": {},
   "outputs": [],
   "source": [
    "T = cgem_timearray(A,grid)"
   ]
  },
  {
   "cell_type": "code",
   "execution_count": null,
   "id": "1767fd2c-9f9b-4cf6-8759-2d701cae0f1c",
   "metadata": {},
   "outputs": [],
   "source": [
    "plt.plot(T,A)"
   ]
  },
  {
   "cell_type": "markdown",
   "id": "197051be-0ed1-4fc1-909d-b0e210d7490e",
   "metadata": {},
   "source": [
    "## That's all we got for now.\n",
    "To plot a bunch of variables on the same plot, or change colors and stuff, you write your own Python..."
   ]
  },
  {
   "cell_type": "code",
   "execution_count": null,
   "id": "a93488e7-5864-43d3-baf2-833aebadda6e",
   "metadata": {},
   "outputs": [],
   "source": [
    "Z = cgem_getvar('Z')\n",
    "NO3 = cgem_getvar('NO3')\n",
    "NH4 = cgem_getvar('NH4')\n",
    "PO4 = cgem_getvar('PO4')"
   ]
  },
  {
   "cell_type": "code",
   "execution_count": null,
   "id": "c9eb2e38-9ba1-460e-a41c-2810114f456a",
   "metadata": {},
   "outputs": [],
   "source": [
    "fig, ax = plt.subplots(figsize=(20, 5))\n",
    "ax.plot(T,A)"
   ]
  },
  {
   "cell_type": "code",
   "execution_count": null,
   "id": "4822430b-9ece-4784-bbb5-cce122d7fc12",
   "metadata": {},
   "outputs": [],
   "source": [
    "fig, ax = plt.subplots(figsize=(20, 5))\n",
    "ax.plot(T,Z)"
   ]
  },
  {
   "cell_type": "code",
   "execution_count": null,
   "id": "430451cb-3cea-4f66-9d58-a6f130d064f4",
   "metadata": {},
   "outputs": [],
   "source": [
    "fig, ax = plt.subplots(figsize=(20, 5))\n",
    "ax.plot(T,NO3, color='black')\n",
    "ax.plot(T,NH4, color='blue')\n",
    "ax.plot(T,PO4, color='cyan')"
   ]
  },
  {
   "cell_type": "code",
   "execution_count": null,
   "id": "7398b586-0ba3-4567-8ee8-f8d64bdcf143",
   "metadata": {},
   "outputs": [],
   "source": []
  }
 ],
 "metadata": {
  "kernelspec": {
   "display_name": "Python 3 (ipykernel)",
   "language": "python",
   "name": "python3"
  },
  "language_info": {
   "codemirror_mode": {
    "name": "ipython",
    "version": 3
   },
   "file_extension": ".py",
   "mimetype": "text/x-python",
   "name": "python",
   "nbconvert_exporter": "python",
   "pygments_lexer": "ipython3",
   "version": "3.10.9"
  }
 },
 "nbformat": 4,
 "nbformat_minor": 5
}
