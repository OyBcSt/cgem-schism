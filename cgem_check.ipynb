{
 "cells": [
  {
   "cell_type": "markdown",
   "id": "90e98304-27c9-481b-961a-feb27856f03a",
   "metadata": {},
   "source": [
    "# CGEM the Notebook\n",
    "## Check all variables after code changes"
   ]
  },
  {
   "cell_type": "markdown",
   "id": "61e1b537-9831-47bb-b7c8-492c64721deb",
   "metadata": {},
   "source": [
    "## Compile the code"
   ]
  },
  {
   "cell_type": "code",
   "execution_count": null,
   "id": "3646d5d8-58b8-46f9-a575-a487876ab859",
   "metadata": {
    "scrolled": true,
    "tags": []
   },
   "outputs": [],
   "source": [
    "!make"
   ]
  },
  {
   "cell_type": "markdown",
   "id": "2dcaf99f-d92d-44ee-9f26-7fe1e9a96d75",
   "metadata": {},
   "source": [
    "## Import CGEM Python functions"
   ]
  },
  {
   "cell_type": "code",
   "execution_count": null,
   "id": "3467d56d-d77c-43d4-86bc-e4a1faa2f9da",
   "metadata": {},
   "outputs": [],
   "source": [
    "from cgem import *"
   ]
  },
  {
   "cell_type": "markdown",
   "id": "8d2e0f68-fe21-4f0f-a1fd-52e44fdc4488",
   "metadata": {},
   "source": [
    "## Read namelists\n",
    "\n",
    "Import both the grid and cgem namelists, and print out grid"
   ]
  },
  {
   "cell_type": "code",
   "execution_count": null,
   "id": "e626e5f8-6c6c-440c-bb62-e419b05f7999",
   "metadata": {},
   "outputs": [],
   "source": [
    "import f90nml\n",
    "cgem = f90nml.read('cgem.nml')\n",
    "grid = f90nml.read('grid.nml')"
   ]
  },
  {
   "cell_type": "code",
   "execution_count": null,
   "id": "6088d399-27d7-47c8-a1e7-fab48a572bc4",
   "metadata": {},
   "outputs": [],
   "source": [
    "cgem_plot1D(grid,'A')"
   ]
  },
  {
   "cell_type": "code",
   "execution_count": null,
   "id": "0548ba6b-564e-487c-a083-3b125265ec13",
   "metadata": {},
   "outputs": [],
   "source": [
    "cgem_plot1D(grid,'Qn')"
   ]
  },
  {
   "cell_type": "code",
   "execution_count": null,
   "id": "92ed02f1-2c51-4814-a0e0-790a23135f51",
   "metadata": {},
   "outputs": [],
   "source": [
    "cgem_plot1D(grid,'Qp')"
   ]
  },
  {
   "cell_type": "code",
   "execution_count": null,
   "id": "0f978274-a373-4e84-a682-e0faa0cbe15f",
   "metadata": {},
   "outputs": [],
   "source": [
    "cgem_plot1D(grid,'Z')"
   ]
  },
  {
   "cell_type": "code",
   "execution_count": null,
   "id": "3889c510-686b-4058-8cca-2ca1c0a443ca",
   "metadata": {},
   "outputs": [],
   "source": [
    "cgem_plot1D(grid,'NO3')"
   ]
  },
  {
   "cell_type": "code",
   "execution_count": null,
   "id": "73ee22c8-0b9b-4540-97c9-1aba3ad51038",
   "metadata": {},
   "outputs": [],
   "source": [
    "cgem_plot1D(grid,'NH4')"
   ]
  },
  {
   "cell_type": "code",
   "execution_count": null,
   "id": "4b2aa120-8d09-42e2-b367-27339e2e8269",
   "metadata": {},
   "outputs": [],
   "source": [
    "cgem_plot1D(grid,'PO4')"
   ]
  },
  {
   "cell_type": "code",
   "execution_count": null,
   "id": "c8abd9b9-77ff-4ea4-b904-85585ef56e76",
   "metadata": {},
   "outputs": [],
   "source": [
    "cgem_plot1D(grid,'DIC')"
   ]
  },
  {
   "cell_type": "code",
   "execution_count": null,
   "id": "6937344a-f36c-41fd-9eb9-9bb286eca89e",
   "metadata": {},
   "outputs": [],
   "source": [
    "cgem_plot1D(grid,'O2')"
   ]
  },
  {
   "cell_type": "code",
   "execution_count": null,
   "id": "31a751d2-363b-45aa-befe-294cda8d284d",
   "metadata": {},
   "outputs": [],
   "source": [
    "cgem_plot1D(grid,'OM1_A')"
   ]
  },
  {
   "cell_type": "code",
   "execution_count": null,
   "id": "7bca7899-5572-491e-b761-e8e4f1bf12a5",
   "metadata": {},
   "outputs": [],
   "source": [
    "cgem_plot1D(grid,'OM2_A')"
   ]
  },
  {
   "cell_type": "code",
   "execution_count": null,
   "id": "e1e99d72-4719-405a-ba69-953ff100e633",
   "metadata": {},
   "outputs": [],
   "source": [
    "cgem_plot1D(grid,'OM1_Z')"
   ]
  },
  {
   "cell_type": "code",
   "execution_count": null,
   "id": "e7543c20-38fb-4812-b256-86d3fdecfd6b",
   "metadata": {},
   "outputs": [],
   "source": [
    "cgem_plot1D(grid,'OM2_Z')"
   ]
  },
  {
   "cell_type": "code",
   "execution_count": null,
   "id": "3a02d951-7fbb-41ec-9bce-397f3c359118",
   "metadata": {},
   "outputs": [],
   "source": [
    "cgem_plot1D(grid,'OM1_R')"
   ]
  },
  {
   "cell_type": "code",
   "execution_count": null,
   "id": "6eb8a019-67a1-495e-abf7-27e8f00b5189",
   "metadata": {},
   "outputs": [],
   "source": [
    "cgem_plot1D(grid,'OM2_R')"
   ]
  },
  {
   "cell_type": "code",
   "execution_count": null,
   "id": "d0898b0d-a06a-408f-916c-5754856e8f7f",
   "metadata": {},
   "outputs": [],
   "source": [
    "cgem_plot1D(grid,'CDOM')"
   ]
  },
  {
   "cell_type": "code",
   "execution_count": null,
   "id": "e8c2dca8-7f11-4645-b492-10ab2a36cfe6",
   "metadata": {},
   "outputs": [],
   "source": [
    "cgem_plot1D(grid,'Si')"
   ]
  },
  {
   "cell_type": "code",
   "execution_count": null,
   "id": "bee8adae-8712-438d-a064-5d817b59e78d",
   "metadata": {},
   "outputs": [],
   "source": [
    "cgem_plot1D(grid,'Alk')"
   ]
  },
  {
   "cell_type": "code",
   "execution_count": null,
   "id": "0ee0e6ea-697b-4da7-b4bf-0fe9c7220d54",
   "metadata": {},
   "outputs": [],
   "source": [
    "cgem_plot1D(grid,'Tr')"
   ]
  }
 ],
 "metadata": {
  "kernelspec": {
   "display_name": "Python 3 (ipykernel)",
   "language": "python",
   "name": "python3"
  },
  "language_info": {
   "codemirror_mode": {
    "name": "ipython",
    "version": 3
   },
   "file_extension": ".py",
   "mimetype": "text/x-python",
   "name": "python",
   "nbconvert_exporter": "python",
   "pygments_lexer": "ipython3",
   "version": "3.10.9"
  }
 },
 "nbformat": 4,
 "nbformat_minor": 5
}
